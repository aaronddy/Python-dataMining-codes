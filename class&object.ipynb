{
 "cells": [
  {
   "cell_type": "code",
   "execution_count": 2,
   "metadata": {
    "executionInfo": {
     "elapsed": 1828,
     "status": "ok",
     "timestamp": 1606092433962,
     "user": {
      "displayName": "Daye Kang",
      "photoUrl": "",
      "userId": "01681206540751030619"
     },
     "user_tz": -540
    },
    "id": "z0I4kTdkdsSe"
   },
   "outputs": [],
   "source": [
    "# 데이터\n",
    "names = [\"Messi\", \"Ramos\", \"Ronaldo\", \"Park\", \"Buffon\"]\n",
    "positions = [\"MF\", \"DF\", \"CF\", \"WF\", \"GK\"]\n",
    "back_number = [10, 4, 7, 13, 1]"
   ]
  },
  {
   "cell_type": "code",
   "execution_count": 3,
   "metadata": {
    "colab": {
     "base_uri": "https://localhost:8080/"
    },
    "executionInfo": {
     "elapsed": 1288,
     "status": "ok",
     "timestamp": 1606092540907,
     "user": {
      "displayName": "Daye Kang",
      "photoUrl": "",
      "userId": "01681206540751030619"
     },
     "user_tz": -540
    },
    "id": "pLU2TMpEkaKf",
    "outputId": "42205e89-8950-4284-edf7-b66de6aadea2"
   },
   "outputs": [
    {
     "name": "stdout",
     "output_type": "stream",
     "text": [
      "1 what\n",
      "2 why\n"
     ]
    }
   ],
   "source": [
    "# zip 함수 이용해서 2차원 리스트 만들기\n",
    "aa = [1, 2]\n",
    "bb = [\"what\", \"why\"]\n",
    "for aaa, bbb in zip(aa, bb):     # zip 뭔지 찾아보기\n",
    "  print(aaa, bbb)"
   ]
  },
  {
   "cell_type": "code",
   "execution_count": 23,
   "metadata": {
    "colab": {
     "base_uri": "https://localhost:8080/"
    },
    "executionInfo": {
     "elapsed": 1333,
     "status": "ok",
     "timestamp": 1606094169859,
     "user": {
      "displayName": "Daye Kang",
      "photoUrl": "",
      "userId": "01681206540751030619"
     },
     "user_tz": -540
    },
    "id": "CvWApa--k0Z3",
    "outputId": "2a7abf41-585f-45a6-8e4e-89834e190250"
   },
   "outputs": [
    {
     "name": "stdout",
     "output_type": "stream",
     "text": [
      "[['Messi', 'MF', 10], ['Ramos', 'DF', 4], ['Ronaldo', 'CF', 7], ['Park', 'WF', 13], ['Buffon', 'GK', 1]]\n"
     ]
    }
   ],
   "source": [
    "# zip 함수 활용\n",
    "'''\n",
    "players = []\n",
    "for name, position, back_num in zip(names, positions, back_number):\n",
    "  players.append([name, position, back_num])\n",
    "  # print(players)\n",
    "print(players)        # [['Messi', 'MF', 10], ['Ramos', 'DF', 4], ['Ronaldo', 'CF', 7], ['Park', 'WF', 13], ['Buffon', 'GK', 1]]\n",
    "'''\n",
    "\n",
    "players = [[name, position, back_num] for name, position, back_num in zip(names, positions, back_number)]     # simpler\n",
    "print(players)        # [['Messi', 'MF', 10], ['Ramos', 'DF', 4], ['Ronaldo', 'CF', 7], ['Park', 'WF', 13], ['Buffon', 'GK', 1]]"
   ]
  },
  {
   "cell_type": "code",
   "execution_count": 6,
   "metadata": {
    "executionInfo": {
     "elapsed": 1025,
     "status": "ok",
     "timestamp": 1606093120102,
     "user": {
      "displayName": "Daye Kang",
      "photoUrl": "",
      "userId": "01681206540751030619"
     },
     "user_tz": -540
    },
    "id": "HOnxqS0Zle1L"
   },
   "outputs": [],
   "source": [
    "# class 생성\n",
    "class SoccerPlayer(object):\n",
    "  def __init__(self, name, position, back_number):\n",
    "    self.name = name\n",
    "    self.position = position\n",
    "    self.back_number = back_number\n",
    "  \n",
    "  def change_back_num(self, new_number):\n",
    "    print(\"선수의 등번호를 %d에서 %d로 변경한다\" %(self.back_number, new_number))\n",
    "    self.back_number = new_number\n",
    "\n",
    "  def __str__(self):\n",
    "    return \"안녕하세요. 제 이름은 %s입니다. 그리고 %s 포지션으로 활약중입니다.\" %(self.name, self.position)\n",
    "    "
   ]
  },
  {
   "cell_type": "code",
   "execution_count": 10,
   "metadata": {
    "colab": {
     "base_uri": "https://localhost:8080/"
    },
    "executionInfo": {
     "elapsed": 1030,
     "status": "ok",
     "timestamp": 1606093360015,
     "user": {
      "displayName": "Daye Kang",
      "photoUrl": "",
      "userId": "01681206540751030619"
     },
     "user_tz": -540
    },
    "id": "pbzeQAaQnB4S",
    "outputId": "901523a1-ee2f-4fec-891e-aa42b6dc8be8"
   },
   "outputs": [
    {
     "name": "stdout",
     "output_type": "stream",
     "text": [
      "선수의 등번호를 10에서 3로 변경한다\n",
      "안녕하세요. 제 이름은 Messi입니다. 그리고 MF 포지션으로 활약중입니다.\n"
     ]
    }
   ],
   "source": [
    "Messi_SCP = SoccerPlayer(\"Messi\", \"MF\", 10)\n",
    "Messi_SCP.change_back_num(3)           # 선수의 등번호를 10에서 3로 변경한다\n",
    "Messi_SCP\n",
    "print(Messi_SCP)                       # 안녕하세요. 제 이름은 Messi입니다. 그리고 MF 포지션으로 활약중입니다."
   ]
  },
  {
   "cell_type": "code",
   "execution_count": 11,
   "metadata": {
    "colab": {
     "base_uri": "https://localhost:8080/"
    },
    "executionInfo": {
     "elapsed": 1043,
     "status": "ok",
     "timestamp": 1606093530754,
     "user": {
      "displayName": "Daye Kang",
      "photoUrl": "",
      "userId": "01681206540751030619"
     },
     "user_tz": -540
    },
    "id": "uXSQvg1fnVfO",
    "outputId": "0963b9a6-5504-4d3f-8b3d-9a793e28ae56"
   },
   "outputs": [
    {
     "name": "stdout",
     "output_type": "stream",
     "text": [
      "3\n"
     ]
    }
   ],
   "source": [
    "print(Messi_SCP.back_number)"
   ]
  },
  {
   "cell_type": "code",
   "execution_count": 27,
   "metadata": {
    "executionInfo": {
     "elapsed": 1062,
     "status": "ok",
     "timestamp": 1606094300547,
     "user": {
      "displayName": "Daye Kang",
      "photoUrl": "",
      "userId": "01681206540751030619"
     },
     "user_tz": -540
    },
    "id": "4WFtx35WomJC"
   },
   "outputs": [],
   "source": [
    "players_obj = []\n",
    "for name, position, back_num in zip(names, positions, back_number):\n",
    "  players_obj.append(SoccerPlayer(name, position, back_num))\n"
   ]
  },
  {
   "cell_type": "code",
   "execution_count": 28,
   "metadata": {
    "colab": {
     "base_uri": "https://localhost:8080/"
    },
    "executionInfo": {
     "elapsed": 1132,
     "status": "ok",
     "timestamp": 1606094302540,
     "user": {
      "displayName": "Daye Kang",
      "photoUrl": "",
      "userId": "01681206540751030619"
     },
     "user_tz": -540
    },
    "id": "L3Tai-p9pYlK",
    "outputId": "c1f7939f-df5c-4e94-e0f3-3332acd4b97b"
   },
   "outputs": [
    {
     "name": "stdout",
     "output_type": "stream",
     "text": [
      "5\n"
     ]
    }
   ],
   "source": [
    "print(len(players_obj))"
   ]
  },
  {
   "cell_type": "code",
   "execution_count": 29,
   "metadata": {
    "colab": {
     "base_uri": "https://localhost:8080/"
    },
    "executionInfo": {
     "elapsed": 1049,
     "status": "ok",
     "timestamp": 1606094320830,
     "user": {
      "displayName": "Daye Kang",
      "photoUrl": "",
      "userId": "01681206540751030619"
     },
     "user_tz": -540
    },
    "id": "Fs9H7yCTrKts",
    "outputId": "7416a0eb-fd53-4e09-d735-7105b8b11cd1"
   },
   "outputs": [
    {
     "name": "stdout",
     "output_type": "stream",
     "text": [
      "안녕하세요. 제 이름은 Ronaldo입니다. 그리고 CF 포지션으로 활약중입니다.\n",
      "안녕하세요. 제 이름은 Park입니다. 그리고 WF 포지션으로 활약중입니다.\n"
     ]
    }
   ],
   "source": [
    "print(players_obj[2])\n",
    "print(players_obj[3])\n"
   ]
  },
  {
   "cell_type": "code",
   "execution_count": null,
   "metadata": {
    "id": "Xhl6HtA5rnB6"
   },
   "outputs": [],
   "source": []
  }
 ],
 "metadata": {
  "colab": {
   "authorship_tag": "ABX9TyMJyrQpkwDWxmD4/XLr+Glq",
   "name": "class&object.ipynb",
   "provenance": []
  },
  "kernelspec": {
   "display_name": "Python 3",
   "language": "python",
   "name": "python3"
  },
  "language_info": {
   "codemirror_mode": {
    "name": "ipython",
    "version": 3
   },
   "file_extension": ".py",
   "mimetype": "text/x-python",
   "name": "python",
   "nbconvert_exporter": "python",
   "pygments_lexer": "ipython3",
   "version": "3.7.6"
  }
 },
 "nbformat": 4,
 "nbformat_minor": 1
}
