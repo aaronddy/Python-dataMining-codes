{
 "cells": [
  {
   "cell_type": "markdown",
   "metadata": {},
   "source": [
    "while 기본 구조"
   ]
  },
  {
   "cell_type": "code",
   "execution_count": 1,
   "metadata": {},
   "outputs": [
    {
     "name": "stdout",
     "output_type": "stream",
     "text": [
      "데이터 0\n",
      "데이터 1\n",
      "데이터 2\n"
     ]
    }
   ],
   "source": [
    "for num in range(3):\n",
    "    print(\"데이터\", num)"
   ]
  },
  {
   "cell_type": "code",
   "execution_count": 2,
   "metadata": {},
   "outputs": [
    {
     "name": "stdout",
     "output_type": "stream",
     "text": [
      "데이터 0\n",
      "데이터 1\n",
      "데이터 2\n"
     ]
    }
   ],
   "source": [
    "num = 0\n",
    "while num < 3:\n",
    "    print(\"데이터\", num)\n",
    "    num += 1"
   ]
  },
  {
   "cell_type": "markdown",
   "metadata": {},
   "source": [
    "input(), 입력을 받는 "
   ]
  },
  {
   "cell_type": "code",
   "execution_count": 4,
   "metadata": {},
   "outputs": [
    {
     "name": "stdout",
     "output_type": "stream",
     "text": [
      "What's your name?daye\n",
      "daye Hi!\n"
     ]
    }
   ],
   "source": [
    "name = input(\"What's your name?\")\n",
    "print(name, 'Hi!')"
   ]
  },
  {
   "cell_type": "markdown",
   "metadata": {},
   "source": [
    "continue & break"
   ]
  },
  {
   "cell_type": "code",
   "execution_count": 5,
   "metadata": {},
   "outputs": [
    {
     "name": "stdout",
     "output_type": "stream",
     "text": [
      "1\n",
      "3\n",
      "4\n"
     ]
    }
   ],
   "source": [
    "count = 0\n",
    "while count < 4:\n",
    "    count += 1\n",
    "    if count == 2:\n",
    "        continue\n",
    "    print(count)\n",
    "    \n",
    "    # continue 는 해당 조건일 경우 다시 반복문의 처음으로 돌아감"
   ]
  },
  {
   "cell_type": "code",
   "execution_count": 6,
   "metadata": {},
   "outputs": [
    {
     "name": "stdout",
     "output_type": "stream",
     "text": [
      "1\n",
      "2\n"
     ]
    }
   ],
   "source": [
    "count = 0\n",
    "while count < 4:\n",
    "    count += 1\n",
    "    if count == 3:\n",
    "        break\n",
    "    print(count)\n",
    "    \n",
    "    # break는 해당 조건일 경우 반복문 종료"
   ]
  },
  {
   "cell_type": "markdown",
   "metadata": {},
   "source": [
    "## 연습문제"
   ]
  },
  {
   "cell_type": "code",
   "execution_count": 7,
   "metadata": {},
   "outputs": [
    {
     "name": "stdout",
     "output_type": "stream",
     "text": [
      "0\n",
      "1\n",
      "2\n"
     ]
    }
   ],
   "source": [
    "count = 0\n",
    "while count < 3:\n",
    "    print(count)\n",
    "    count += 1\n",
    "    \n",
    "# 0\n",
    "# 1\n",
    "# 2"
   ]
  },
  {
   "cell_type": "code",
   "execution_count": 8,
   "metadata": {},
   "outputs": [
    {
     "name": "stdout",
     "output_type": "stream",
     "text": [
      "2\n",
      "3\n",
      "4\n"
     ]
    }
   ],
   "source": [
    "count = 1\n",
    "while count < 4:\n",
    "    count +=1\n",
    "    print(count)"
   ]
  },
  {
   "cell_type": "code",
   "execution_count": 1,
   "metadata": {},
   "outputs": [
    {
     "name": "stdout",
     "output_type": "stream",
     "text": [
      "1\n",
      "3\n",
      "5\n"
     ]
    }
   ],
   "source": [
    "count = 0 \n",
    "while count <= 5:\n",
    "    if count % 2 != 0:\n",
    "        print(count)\n",
    "    count += 1"
   ]
  },
  {
   "cell_type": "code",
   "execution_count": 12,
   "metadata": {},
   "outputs": [
    {
     "name": "stdout",
     "output_type": "stream",
     "text": [
      "구구단 몇 단을 계산할까?9\n",
      "구구단 9단을 계산하자\n",
      "9 x 1 = 9\n",
      "9 x 2 = 18\n",
      "9 x 3 = 27\n",
      "9 x 4 = 36\n",
      "9 x 5 = 45\n",
      "9 x 6 = 54\n",
      "9 x 7 = 63\n",
      "9 x 8 = 72\n",
      "9 x 9 = 81\n"
     ]
    }
   ],
   "source": [
    "user_input = input(\"구구단 몇 단을 계산할까?\")\n",
    "int_input = int(user_input)\n",
    "print(\"구구단\", user_input + \"단을 계산하자\")\n",
    "\n",
    "num = 1\n",
    "while num <= 9:\n",
    "    nums = num* int_input\n",
    "    print(user_input, 'x', num, '=', nums)\n",
    "    num+=1\n",
    "\n"
   ]
  },
  {
   "cell_type": "markdown",
   "metadata": {},
   "source": [
    "## tuple(튜플)\n",
    "\n",
    "- 여러 값을 모을 수 있는 자료형\n",
    "- 한 번 만든 값을 변경하고 싶지 않은 경우\n",
    "- 소괄호와 콤마 사용\n",
    "- 값을 한 개만 가진 튜플에서는 값 뒤에 쉼표를 넣어줘야 함"
   ]
  },
  {
   "cell_type": "code",
   "execution_count": 1,
   "metadata": {},
   "outputs": [
    {
     "name": "stdout",
     "output_type": "stream",
     "text": [
      "()\n",
      "<class 'tuple'>\n"
     ]
    }
   ],
   "source": [
    "my_tuple = ()\n",
    "print(my_tuple)\n",
    "print(type(my_tuple))"
   ]
  },
  {
   "cell_type": "code",
   "execution_count": 2,
   "metadata": {},
   "outputs": [
    {
     "name": "stdout",
     "output_type": "stream",
     "text": [
      "(2, 4, 3.14, 0.5)\n"
     ]
    }
   ],
   "source": [
    "my_tuple2 = (2, 4, 3.14, 0.5)\n",
    "print(my_tuple2)"
   ]
  },
  {
   "cell_type": "code",
   "execution_count": 3,
   "metadata": {},
   "outputs": [
    {
     "name": "stdout",
     "output_type": "stream",
     "text": [
      "1\n",
      "<class 'int'>\n",
      "(1,)\n",
      "<class 'tuple'>\n"
     ]
    }
   ],
   "source": [
    "my_int = (1)\n",
    "print(my_int)\n",
    "print(type(my_int))\n",
    "\n",
    "my_tuple = (1, )\n",
    "print(my_tuple)\n",
    "print(type(my_tuple))"
   ]
  },
  {
   "cell_type": "code",
   "execution_count": 8,
   "metadata": {},
   "outputs": [
    {
     "name": "stdout",
     "output_type": "stream",
     "text": [
      "B\n",
      "<class 'str'>\n",
      "<class 'tuple'>\n"
     ]
    }
   ],
   "source": [
    "classes = ('A', 'B', 'C')\n",
    "print(classes[1])\n",
    "print(type(classes[1]))\n",
    "print(type(classes))"
   ]
  },
  {
   "cell_type": "markdown",
   "metadata": {},
   "source": [
    "## 패킹과 언패킹\n",
    "\n",
    "- 패킹(packing): 여러 값을 하나의 변수에 넣는 것\n",
    "- 언패킹(unpacking): 튜플을 풀어서 여러 변수에 저장하는 것\n",
    "\n",
    "여러 개의 변수에 여러 개의 값을 한 번에 할당 가능"
   ]
  },
  {
   "cell_type": "code",
   "execution_count": 11,
   "metadata": {},
   "outputs": [
    {
     "name": "stdout",
     "output_type": "stream",
     "text": [
      "('clover1', 'clover2', 'clover3')\n",
      "<class 'tuple'>\n"
     ]
    }
   ],
   "source": [
    "clovers = 'clover1', 'clover2', 'clover3'\n",
    "print(clovers)  # tuple로 인식\n",
    "print(type(clovers))"
   ]
  },
  {
   "cell_type": "code",
   "execution_count": 13,
   "metadata": {},
   "outputs": [
    {
     "name": "stdout",
     "output_type": "stream",
     "text": [
      "R 122 G 233 B 400\n"
     ]
    }
   ],
   "source": [
    "num_tuple= (122, 233, 400)\n",
    "r, g, b = num_tuple\n",
    "print(\"R\", r, \"G\", g, \"B\", b)"
   ]
  },
  {
   "cell_type": "markdown",
   "metadata": {},
   "source": [
    "## 함수\n",
    "\n",
    "- def 사용"
   ]
  },
  {
   "cell_type": "code",
   "execution_count": 15,
   "metadata": {},
   "outputs": [
    {
     "name": "stdout",
     "output_type": "stream",
     "text": [
      "Let's do practice!\n"
     ]
    }
   ],
   "source": [
    "def my_function():\n",
    "    print(\"Let's do practice!\")\n",
    "    \n",
    "my_function()"
   ]
  },
  {
   "cell_type": "code",
   "execution_count": 18,
   "metadata": {},
   "outputs": [
    {
     "name": "stdout",
     "output_type": "stream",
     "text": [
      "12\n"
     ]
    }
   ],
   "source": [
    "def add(num1, num2):\n",
    "    return num1 + num2\n",
    "\n",
    "print(add(10, 2))"
   ]
  },
  {
   "cell_type": "markdown",
   "metadata": {},
   "source": [
    "## 모듈 module\n",
    "\n",
    "- 비슷한 함수끼리 모아둔 파일\n",
    "- 프로그램을 만드는 데 노력 절감\n",
    "- import : 모듈을 불러오는 키워드, 불러온 모듈 뒤에 마침표를 붙여서 해당 모듈이 포함하는 함수 사용"
   ]
  },
  {
   "cell_type": "code",
   "execution_count": 42,
   "metadata": {},
   "outputs": [
    {
     "name": "stdout",
     "output_type": "stream",
     "text": [
      "실습\n",
      "['데이터', '실습']\n",
      "15\n"
     ]
    }
   ],
   "source": [
    "import random\n",
    "\n",
    "subject = ['데이터', '마이닝', '및', '실습', ]\n",
    "\n",
    "print(random.choice(subject))\n",
    "print(random.sample(subject, 2))\n",
    "print(random.randint(2, 55))"
   ]
  },
  {
   "cell_type": "markdown",
   "metadata": {},
   "source": [
    "## 연습문제"
   ]
  },
  {
   "cell_type": "code",
   "execution_count": 44,
   "metadata": {},
   "outputs": [
    {
     "name": "stdout",
     "output_type": "stream",
     "text": [
      "이상한 나라에 오신 것을 환영합니다!\n"
     ]
    }
   ],
   "source": [
    "def welcome():\n",
    "    print(\"이상한 나라에 오신 것을 환영합니다:)\")\n",
    "\n",
    "welcome()"
   ]
  },
  {
   "cell_type": "code",
   "execution_count": 48,
   "metadata": {},
   "outputs": [
    {
     "name": "stdout",
     "output_type": "stream",
     "text": [
      "도도새 님, 이상한 나라에 오신 것을 환영합니다:)\n",
      "앨리스 님, 이상한 나라에 오신 것을 환영합니다:)\n"
     ]
    }
   ],
   "source": [
    "def welcome(name):\n",
    "    print(name, \"님, 이상한 나라에 오신 것을 환영합니다:)\")\n",
    "    \n",
    "welcome('도도새')\n",
    "welcome('앨리스')"
   ]
  },
  {
   "cell_type": "code",
   "execution_count": 51,
   "metadata": {},
   "outputs": [
    {
     "name": "stdout",
     "output_type": "stream",
     "text": [
      "***\n",
      "**\n",
      "*\n"
     ]
    }
   ],
   "source": [
    "def draw_stars(num):\n",
    "    print('*' * num)\n",
    "    \n",
    "draw_stars(3)\n",
    "draw_stars(2)\n",
    "draw_stars(1)"
   ]
  },
  {
   "cell_type": "code",
   "execution_count": 57,
   "metadata": {},
   "outputs": [
    {
     "name": "stdout",
     "output_type": "stream",
     "text": [
      "['clover1', 'clover2']\n"
     ]
    }
   ],
   "source": [
    "import random\n",
    "\n",
    "clovers = ['clover1', 'clover2', 'clover3']\n",
    "print(random.sample(clovers, 2))"
   ]
  },
  {
   "cell_type": "code",
   "execution_count": 7,
   "metadata": {},
   "outputs": [
    {
     "name": "stdout",
     "output_type": "stream",
     "text": [
      "Guess the number!50\n",
      "your number is smaller than the number\n",
      "Guess the bigger75\n",
      "your number is bigger than the number\n",
      "Guess the bigger60\n",
      "your number is smaller than the number\n",
      "Guess the bigger70\n",
      "your number is bigger than the number\n",
      "Guess the bigger65\n",
      "your number is smaller than the number\n",
      "Guess the bigger68\n",
      "your number is bigger than the number\n",
      "Guess the bigger66\n",
      "You made it! That's correct number 66\n"
     ]
    }
   ],
   "source": [
    "import random\n",
    "\n",
    "computer_num = random.randint(1, 100)\n",
    "# print(computer_num)\n",
    "input_num = int(input(\"Guess the number!\"))\n",
    "\n",
    "    \n",
    "while computer_num != input_num:\n",
    "    \n",
    "    if computer_num > input_num:\n",
    "        print(\"your number is smaller than the number\")\n",
    "    \n",
    "    else:\n",
    "        print(\"your number is bigger than the number\")\n",
    "        \n",
    "    input_num = int(input(\"Guess the bigger\"))\n",
    "        \n",
    "print(\"You made it! That's correct number\", input_num)   "
   ]
  }
 ],
 "metadata": {
  "kernelspec": {
   "display_name": "Python 3",
   "language": "python",
   "name": "python3"
  },
  "language_info": {
   "codemirror_mode": {
    "name": "ipython",
    "version": 3
   },
   "file_extension": ".py",
   "mimetype": "text/x-python",
   "name": "python",
   "nbconvert_exporter": "python",
   "pygments_lexer": "ipython3",
   "version": "3.7.6"
  }
 },
 "nbformat": 4,
 "nbformat_minor": 4
}
